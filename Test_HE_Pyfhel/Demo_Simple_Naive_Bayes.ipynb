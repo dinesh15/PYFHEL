{
 "cells": [
  {
   "cell_type": "code",
   "execution_count": 1,
   "metadata": {},
   "outputs": [],
   "source": [
    "from sklearn.model_selection import train_test_split\n",
    "from sklearn.naive_bayes import GaussianNB\n",
    "from sklearn.preprocessing import LabelEncoder\n",
    "from sklearn.metrics import accuracy_score\n",
    "import numpy as np\n"
   ]
  },
  {
   "cell_type": "code",
   "execution_count": 4,
   "metadata": {},
   "outputs": [],
   "source": [
    "# Dataset\n",
    "weather = ['Sunny', 'Overcast', 'Rainy', 'Sunny', 'Sunny', 'Overcast', 'Rainy', 'Rainy']\n",
    "play = ['No', 'Yes', 'Yes', 'Yes', 'Yes', 'Yes', 'No', 'Yes']\n"
   ]
  },
  {
   "cell_type": "code",
   "execution_count": 10,
   "metadata": {},
   "outputs": [],
   "source": [
    "# Encoding labels\n",
    "# Use separate LabelEncoders\n",
    "weather_encoder = LabelEncoder()\n",
    "play_encoder = LabelEncoder()\n",
    "\n",
    "weather_encoded = weather_encoder.fit_transform(weather)\n",
    "play_encoded = play_encoder.fit_transform(play)\n",
    "\n",
    "# Reshape weather_encoded to make it 2D\n",
    "features = weather_encoded.reshape(-1, 1)\n",
    "\n"
   ]
  },
  {
   "cell_type": "code",
   "execution_count": 11,
   "metadata": {},
   "outputs": [],
   "source": [
    "# Splitting dataset into training and testing set\n",
    "features_train, features_test, play_train, play_test = train_test_split(features, play_encoded, test_size=0.25, random_state=42)\n",
    "\n",
    "# Model\n",
    "model = GaussianNB()\n",
    "\n",
    "# Training the model\n",
    "model.fit(features_train, play_train)\n",
    "\n",
    "# Prediction\n",
    "predicted = model.predict(features_test)"
   ]
  },
  {
   "cell_type": "code",
   "execution_count": 12,
   "metadata": {},
   "outputs": [
    {
     "name": "stdout",
     "output_type": "stream",
     "text": [
      "Accuracy: 1.0\n",
      "Predicted Play for 'Sunny': Yes\n"
     ]
    }
   ],
   "source": [
    "# Accuracy\n",
    "print(\"Accuracy:\", accuracy_score(play_test, predicted))\n",
    "\n",
    "# Predicting with a new data point\n",
    "# Ensure to use the correct encoder for transformation\n",
    "new_data = weather_encoder.transform(['Sunny']).reshape(1, -1)  # Correct encoder\n",
    "new_prediction = model.predict(new_data)\n",
    "\n",
    "# Use the play_encoder to inverse transform the prediction\n",
    "print(\"Predicted Play for 'Sunny':\", play_encoder.inverse_transform(new_prediction)[0])"
   ]
  }
 ],
 "metadata": {
  "kernelspec": {
   "display_name": "base",
   "language": "python",
   "name": "python3"
  },
  "language_info": {
   "codemirror_mode": {
    "name": "ipython",
    "version": 3
   },
   "file_extension": ".py",
   "mimetype": "text/x-python",
   "name": "python",
   "nbconvert_exporter": "python",
   "pygments_lexer": "ipython3",
   "version": "3.11.4"
  },
  "orig_nbformat": 4
 },
 "nbformat": 4,
 "nbformat_minor": 2
}
