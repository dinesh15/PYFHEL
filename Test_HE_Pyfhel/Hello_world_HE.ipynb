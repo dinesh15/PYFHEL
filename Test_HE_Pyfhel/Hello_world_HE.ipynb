{
 "cells": [
  {
   "cell_type": "code",
   "execution_count": 20,
   "metadata": {},
   "outputs": [
    {
     "name": "stdout",
     "output_type": "stream",
     "text": [
      "1. Import Pyfhel class, and numpy for the inputs to encrypt.\n"
     ]
    }
   ],
   "source": [
    "import numpy as np\n",
    "from Pyfhel import Pyfhel\n",
    "print(\"1. Import Pyfhel class, and numpy for the inputs to encrypt.\")"
   ]
  },
  {
   "cell_type": "code",
   "execution_count": 21,
   "metadata": {},
   "outputs": [],
   "source": [
    "HE = Pyfhel()           # Creating empty Pyfhel object\n",
    "HE.contextGen(scheme='bfv', n=2**14, t_bits=20)  # Generate context for 'bfv'/'ckks' scheme\n",
    "                        # The n defines the number of plaintext slots.\n",
    "                        #  There are many configurable parameters on this step\n",
    "                        #  More info in Demo_2, Demo_3, and Pyfhel.contextGen()\n",
    "HE.keyGen()             # Key Generation: generates a pair of public/secret keys"
   ]
  },
  {
   "cell_type": "code",
   "execution_count": 22,
   "metadata": {},
   "outputs": [
    {
     "name": "stdout",
     "output_type": "stream",
     "text": [
      "2. Context and key setup\n",
      "<bfv Pyfhel obj at 0x28b26ae2150, [pk:Y, sk:Y, rtk:-, rlk:-, contx(n=16384, t=786433, sec=128, qi=[], scale=1.0, )]>\n"
     ]
    }
   ],
   "source": [
    "print(\"2. Context and key setup\")\n",
    "print(HE)"
   ]
  },
  {
   "cell_type": "code",
   "execution_count": 28,
   "metadata": {},
   "outputs": [
    {
     "name": "stdout",
     "output_type": "stream",
     "text": [
      "3. Integer Encryption, \n",
      "    int  [127  10  50 123] -> ctxt1  <class 'Pyfhel.PyCtxt.PyCtxt'>\n",
      "    int  [-5] -> ctxt2  <class 'Pyfhel.PyCtxt.PyCtxt'>\n",
      "310\n",
      "[310 310 310 310]\n",
      "[310]\n"
     ]
    }
   ],
   "source": [
    "integer1 = np.array([127, 10, 50, 123], dtype=np.int64)\n",
    "integer2 = np.array([-5], dtype=np.int64)\n",
    "ctxt1 = HE.encryptInt(integer1) # Encryption makes use of the public key\n",
    "ctxt2 = HE.encryptInt(integer2) # For integers, encryptInt function is used.\n",
    "print(\"3. Integer Encryption, \")\n",
    "print(\"    int \",integer1,'-> ctxt1 ', type(ctxt1))\n",
    "print(\"    int \",integer2,'-> ctxt2 ', type(ctxt2))\n",
    "print(sum(integer1))\n",
    "print(HE.decryptInt(HE.cumul_add(ctxt1, n_elements = 0,in_new_ctxt=True))[:4])\n",
    "#perform multiplication between encrypted integers and encoded vaue\n",
    "print(HE.decryptInt(HE.cumul_add(ctxt1, n_elements = 0))[:1])"
   ]
  },
  {
   "cell_type": "code",
   "execution_count": 15,
   "metadata": {},
   "outputs": [
    {
     "name": "stdout",
     "output_type": "stream",
     "text": [
      "<Pyfhel Ciphertext at 0x203f1689490, scheme=bfv, size=2/2, noiseBudget=361>\n",
      "<Pyfhel Ciphertext at 0x203f0132b60, scheme=bfv, size=2/2, noiseBudget=361>\n"
     ]
    }
   ],
   "source": [
    "print(ctxt1)\n",
    "print(ctxt2)"
   ]
  },
  {
   "cell_type": "code",
   "execution_count": 16,
   "metadata": {},
   "outputs": [
    {
     "name": "stdout",
     "output_type": "stream",
     "text": [
      "4. Operating with encrypted integers\n",
      "Sum: <Pyfhel Ciphertext at 0x203f16a0270, scheme=bfv, size=2/2, noiseBudget=361>\n",
      "Sub: <Pyfhel Ciphertext at 0x203f0132430, scheme=bfv, size=2/2, noiseBudget=361>\n",
      "Mult:<Pyfhel Ciphertext at 0x203f168bdd0, scheme=bfv, size=3/3, noiseBudget=329>\n"
     ]
    }
   ],
   "source": [
    "ctxtSum = ctxt1 + ctxt2         # `ctxt1 += ctxt2` for inplace operation\n",
    "ctxtSub = ctxt1 - ctxt2         # `ctxt1 -= ctxt2` for inplace operation\n",
    "ctxtMul = ctxt1 * ctxt2         # `ctxt1 *= ctxt2` for inplace operation\n",
    "print(\"4. Operating with encrypted integers\")\n",
    "print(f\"Sum: {ctxtSum}\")\n",
    "print(f\"Sub: {ctxtSub}\")\n",
    "print(f\"Mult:{ctxtMul}\")"
   ]
  },
  {
   "cell_type": "code",
   "execution_count": 17,
   "metadata": {},
   "outputs": [
    {
     "name": "stdout",
     "output_type": "stream",
     "text": [
      "#. Decrypting result:\n",
      "     addition:       decrypt(ctxt1 + ctxt2) =   [122   0   0 ...   0   0   0]\n",
      "     substraction:   decrypt(ctxt1 - ctxt2) =   [132   0   0 ...   0   0   0]\n",
      "     multiplication: decrypt(ctxt1 + ctxt2) =   [-635    0    0 ...    0    0    0]\n"
     ]
    }
   ],
   "source": [
    "resSum = HE.decryptInt(ctxtSum) # Decryption must use the corresponding function\n",
    "                                #  decryptInt.\n",
    "resSub = HE.decryptInt(ctxtSub)\n",
    "resMul = HE.decryptInt(ctxtMul)\n",
    "print(\"#. Decrypting result:\")\n",
    "print(\"     addition:       decrypt(ctxt1 + ctxt2) =  \", resSum)\n",
    "print(\"     substraction:   decrypt(ctxt1 - ctxt2) =  \", resSub)\n",
    "print(\"     multiplication: decrypt(ctxt1 * ctxt2) =  \", resMul)"
   ]
  },
  {
   "cell_type": "code",
   "execution_count": 23,
   "metadata": {},
   "outputs": [
    {
     "name": "stdout",
     "output_type": "stream",
     "text": [
      "[-635    0    0 ...    0    0    0]\n"
     ]
    }
   ],
   "source": [
    "print(HE.decryptInt(HE.multiply(ctxt1, ctxt2)))"
   ]
  }
 ],
 "metadata": {
  "kernelspec": {
   "display_name": "base",
   "language": "python",
   "name": "python3"
  },
  "language_info": {
   "codemirror_mode": {
    "name": "ipython",
    "version": 3
   },
   "file_extension": ".py",
   "mimetype": "text/x-python",
   "name": "python",
   "nbconvert_exporter": "python",
   "pygments_lexer": "ipython3",
   "version": "undefined.undefined.undefined"
  },
  "orig_nbformat": 4
 },
 "nbformat": 4,
 "nbformat_minor": 2
}
