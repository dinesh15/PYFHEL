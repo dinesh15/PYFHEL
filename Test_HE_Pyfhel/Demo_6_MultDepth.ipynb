{
  "cells": [
    {
      "cell_type": "markdown",
      "metadata": {},
      "source": [
        "\n",
        "# MultDepth and Relineraization\n",
        "\n",
        "This demo focuses on managing ciphertext size and noise budget.\n",
        "\n",
        "Each ciphertext can be seen as (oversimplifying a bit) a polynomial with noise.\n",
        "When you perform encrypted multiplication, the size of the output polynomial grows\n",
        "based on the size of the tho muliplicands, which increases its memory footprint\n",
        "and slows down operations. In order to keep ciphertext sizes low (min. 2), it\n",
        "is recommended to relinearize after each multiplication, effectively shrinking\n",
        "the ciphertext back to minimum size.\n",
        "\n",
        "Besides this, the noise inside the ciphertext grows greatly when multiplying.\n",
        "Each ciphertext is given a noise budget when first encrypted, which decreases\n",
        "irreversibly for each multiplication. If the noise budget reaches zero, the\n",
        "resultin ciphertext cannot be decrypted correctly anymore.\n"
      ]
    },
    {
      "cell_type": "markdown",
      "metadata": {},
      "source": [
        "---------------------------------------------------------------------------- #\n",
        "A) BFV - MULTIPLICATIVE DEPTH WITH INTEGERS\n",
        "---------------------------------------------------------------------------- #\n",
        "A1. Context and key setup\n",
        "---------------------------\n",
        "Feel free to change these parameters!\n",
        "\n"
      ]
    },
    {
      "cell_type": "code",
      "execution_count": 11,
      "metadata": {
        "collapsed": false
      },
      "outputs": [
        {
          "name": "stdout",
          "output_type": "stream",
          "text": [
            "\n",
            "A1. BFV context generation\n",
            "\t<bfv Pyfhel obj at 0x24f1f5f9c50, [pk:Y, sk:Y, rtk:-, rlk:Y, contx(n=8192, t=1032193, sec=128, qi=[], scale=1.0, )]>\n"
          ]
        }
      ],
      "source": [
        "import numpy as np\n",
        "from Pyfhel import Pyfhel\n",
        "HE = Pyfhel(key_gen=True, context_params= {\n",
        "    'scheme': 'BFV',\n",
        "    'n': 2**13,         # num. of slots per plaintext. Higher n yields higher noise \n",
        "                        #  budget, but operations take longer.\n",
        "    't': 65537,         # Plaintext modulus (and bits). Higher t yields higher noise\n",
        "    't_bits': 20,       #  budget, but operations take longer.\n",
        "    'sec': 128,         # Security parameter.\n",
        "})\n",
        "HE.relinKeyGen()\n",
        "\n",
        "print(\"\\nA1. BFV context generation\")\n",
        "print(f\"\\t{HE}\")"
      ]
    },
    {
      "cell_type": "markdown",
      "metadata": {},
      "source": [
        "## 2. BFV Array Encoding & Encryption\n",
        "We will define two 1D integer arrays, encode and encrypt them:\n",
        "arr1 = [0, 1, ... n-1]\n",
        "arr2 = [-t//2, -1, 1, 0, 0..., 0]  \n",
        "\n"
      ]
    },
    {
      "cell_type": "code",
      "execution_count": 12,
      "metadata": {
        "collapsed": false
      },
      "outputs": [
        {
          "name": "stdout",
          "output_type": "stream",
          "text": [
            "\n",
            "A2. Integer Encryption\n",
            "->\tarr1  [   0    1    2 ... 8189 8190 8191] \n",
            "\t==> ctxt1  <Pyfhel Ciphertext at 0x24f23bb4860, scheme=bfv, size=2/2, noiseBudget=146>\n",
            "->\tarr2  [1 2 3] \n",
            "\t==> ctxt2  <Pyfhel Ciphertext at 0x24f1f5c7d30, scheme=bfv, size=2/2, noiseBudget=146>\n"
          ]
        }
      ],
      "source": [
        "arr1 = np.arange(HE.n, dtype=np.int64)\n",
        "arr2 = np.array([1, 2, 3], dtype=np.int64) \n",
        "\n",
        "ctxt1 = HE.encryptInt(arr1)\n",
        "ctxt2 = HE.encryptInt(arr2)\n",
        "\n",
        "print(\"\\nA2. Integer Encryption\")\n",
        "print(\"->\\tarr1 \", arr1,'\\n\\t==> ctxt1 ', ctxt1)\n",
        "print(\"->\\tarr2 \", arr2,'\\n\\t==> ctxt2 ', ctxt2)"
      ]
    },
    {
      "cell_type": "markdown",
      "metadata": {},
      "source": [
        "## 3. BFV: Securely multiplying as much as we can\n",
        "You can measure the noise level using HE.noise_level(ctxt).\n",
        "IMPORTANT! To get the noise Level you need the private key! otherwise the only\n",
        "way to know if above the noise is to decrypt the ciphertext and check the result.\n",
        "\n"
      ]
    },
    {
      "cell_type": "code",
      "execution_count": 13,
      "metadata": {
        "collapsed": false
      },
      "outputs": [
        {
          "name": "stdout",
          "output_type": "stream",
          "text": [
            "A3. Securely multiplying as much as we can\n",
            "\tStep 0: noise_lvl 146, res [0 1 2 3]\n",
            "\tStep 1: noise_lvl 114, res [0 2 6 0]\n",
            "\tStep 2: noise_lvl 82, res [ 0  4 18  0]\n",
            "\tStep 3: noise_lvl 50, res [ 0  8 54  0]\n",
            "\tStep 4: noise_lvl 17, res [  0  16 162   0]\n",
            "\tFinal Step 5: noise_lvl 0, res [  23458  151340 -157720  117950]\n",
            "---------------------------------------\n"
          ]
        }
      ],
      "source": [
        "print(\"A3. Securely multiplying as much as we can\")\n",
        "step = 0\n",
        "lvl = HE.noise_level(ctxt1)\n",
        "while lvl > 0:\n",
        "    print(f\"\\tStep {step}: noise_lvl {lvl}, res {HE.decryptInt(ctxt1)[:4]}\")\n",
        "    step += 1\n",
        "    ctxt1 *= ctxt2    # Multiply in-place\n",
        "    ctxt1 = ~(ctxt1)  # Always relinearize after each multiplication!\n",
        "    lvl = HE.noise_level(ctxt1)\n",
        "print(f\"\\tFinal Step {step}: noise_lvl {lvl}, res {HE.decryptInt(ctxt1)[:4]}\")\n",
        "print(\"---------------------------------------\")"
      ]
    },
    {
      "cell_type": "markdown",
      "metadata": {},
      "source": [
        "---------------------------------------------------------------------------- #\n",
        "B) CKKS - MULTIPLICATIVE DEPTH WITH FIXED-POINTS\n",
        "---------------------------------------------------------------------------- #\n",
        "In this case we don't have a noise_level operation to check the current noise,\n",
        "since the noise is considered as part of the encoding and adds up to a loss in\n",
        "precision of the encoded values.\n",
        "However, we can precisely control the maximum # of multiplications by setting \n",
        "qi_sizes (or even manually selecting primes qi).\n",
        "\n",
        "## B1. Context and key setup\n",
        "\n"
      ]
    },
    {
      "cell_type": "code",
      "execution_count": 14,
      "metadata": {
        "collapsed": false
      },
      "outputs": [
        {
          "name": "stdout",
          "output_type": "stream",
          "text": [
            "\n",
            "B1. CKKS context generation\n",
            "\t<ckks Pyfhel obj at 0x24f1f5c7a00, [pk:Y, sk:Y, rtk:-, rlk:Y, contx(n=16384, t=0, sec=128, qi=[60, 30, 60], scale=1073741824.0, )]>\n"
          ]
        }
      ],
      "source": [
        "import numpy as np\n",
        "from Pyfhel import Pyfhel\n",
        "\n",
        "# Feel free to change this number!\n",
        "n_mults = 1\n",
        "\n",
        "HE = Pyfhel(key_gen=True, context_params={\n",
        "    'scheme': 'CKKS',\n",
        "    'n': 2**14,         # For CKKS, n/2 values can be encoded in a single ciphertext. \n",
        "    'scale': 2**30,     # Each multiplication grows the final scale\n",
        "    'qi_sizes': [60]+ [30]*n_mults +[60] # Number of bits of each prime in the chain. \n",
        "                        # Intermediate prime sizes should be close to log2(scale).\n",
        "                        # One per multiplication! More/higher qi_sizes means bigger \n",
        "                        #  ciphertexts and slower ops.\n",
        "})\n",
        "HE.relinKeyGen()\n",
        "print(\"\\nB1. CKKS context generation\")\n",
        "print(f\"\\t{HE}\")"
      ]
    },
    {
      "cell_type": "markdown",
      "metadata": {},
      "source": [
        "## B2. CKKS Array Encoding & Encryption\n",
        "\n"
      ]
    },
    {
      "cell_type": "code",
      "execution_count": 29,
      "metadata": {
        "collapsed": false
      },
      "outputs": [
        {
          "name": "stdout",
          "output_type": "stream",
          "text": [
            "\n",
            "B2. Fixed-point Encoding & Encryption, \n",
            "->\tarr_x  [1. 2. 3. 4. 5. 5.] \n",
            "\t==> ctxt_x  <Pyfhel Ciphertext at 0x24f23b2a020, scheme=ckks, size=2/2, scale_bits=30, mod_level=0>\n",
            "->\tarr_y  [0.5 0.5] \n",
            "\t==> ctxt_y  <Pyfhel Ciphertext at 0x24f23bb53f0, scheme=ckks, size=2/2, scale_bits=30, mod_level=0>\n",
            "[20.00546682 19.99973777 20.00303864 ... 20.00064509 20.00336062\n",
            " 20.00072292]\n"
          ]
        },
        {
          "name": "stderr",
          "output_type": "stream",
          "text": [
            "C:\\Users\\Chowdari\\AppData\\Local\\Temp\\ipykernel_19016\\2730912550.py:13: RuntimeWarning: <Pyfhel Warning> rot_key empty, initializing it for rotation.\n",
            "  print(HE.decryptFrac(HE.cumul_add(ctxt_x)))\n"
          ]
        }
      ],
      "source": [
        "arr_x = np.array([1 , 2 , 3 , 4, 5, 5], dtype=np.float64) \n",
        "arr_y = np.array([0.5 , 0.5], dtype=np.float64)\n",
        "\n",
        "ctxt_x = HE.encryptFrac(arr_x)\n",
        "ctxt_y = HE.encryptFrac(arr_y)\n",
        "\n",
        "\n",
        "print(\"\\nB2. Fixed-point Encoding & Encryption, \")\n",
        "print(\"->\\tarr_x \", arr_x,'\\n\\t==> ctxt_x ', ctxt_x)\n",
        "print(\"->\\tarr_y \", arr_y,'\\n\\t==> ctxt_y ', ctxt_y)\n",
        "\n",
        "\n",
        "print(HE.decryptFrac(HE.cumul_add(ctxt_x)))\n"
      ]
    },
    {
      "cell_type": "markdown",
      "metadata": {},
      "source": [
        "## B3. Multiply n_mult times!\n",
        "Besides rescaling, we also need to perform rescaling & mod switching. Luckily \n",
        "Pyfhel does it for us by calling HE.align_mod_n_scale() before each operation.\n",
        "\n"
      ]
    },
    {
      "cell_type": "code",
      "execution_count": 7,
      "metadata": {
        "collapsed": false
      },
      "outputs": [
        {
          "ename": "ValueError",
          "evalue": "encrypted1 and encrypted2 parameter mismatch",
          "output_type": "error",
          "traceback": [
            "\u001b[1;31m---------------------------------------------------------------------------\u001b[0m",
            "\u001b[1;31mValueError\u001b[0m                                Traceback (most recent call last)",
            "\u001b[1;32md:\\One Drive\\Dinesh Student\\OneDrive - IL State University\\MS Academic\\GA_Projects\\Bakshi\\homomorphic Encrytion\\Test_HE_Pyfhel\\Demo_6_MultDepth.ipynb Cell 13\u001b[0m line \u001b[0;36m1\n\u001b[1;32m----> <a href='vscode-notebook-cell:/d%3A/One%20Drive/Dinesh%20Student/OneDrive%20-%20IL%20State%20University/MS%20Academic/GA_Projects/Bakshi/homomorphic%20Encrytion/Test_HE_Pyfhel/Demo_6_MultDepth.ipynb#X15sZmlsZQ%3D%3D?line=0'>1</a>\u001b[0m HE\u001b[39m.\u001b[39mmultiply(ctxt_x, ctxt_y) \n\u001b[0;32m      <a href='vscode-notebook-cell:/d%3A/One%20Drive/Dinesh%20Student/OneDrive%20-%20IL%20State%20University/MS%20Academic/GA_Projects/Bakshi/homomorphic%20Encrytion/Test_HE_Pyfhel/Demo_6_MultDepth.ipynb#X15sZmlsZQ%3D%3D?line=1'>2</a>\u001b[0m _r \u001b[39m=\u001b[39m \u001b[39mlambda\u001b[39;00m x: np\u001b[39m.\u001b[39mround(x, decimals\u001b[39m=\u001b[39m\u001b[39m6\u001b[39m)[:\u001b[39m4\u001b[39m]\n\u001b[0;32m      <a href='vscode-notebook-cell:/d%3A/One%20Drive/Dinesh%20Student/OneDrive%20-%20IL%20State%20University/MS%20Academic/GA_Projects/Bakshi/homomorphic%20Encrytion/Test_HE_Pyfhel/Demo_6_MultDepth.ipynb#X15sZmlsZQ%3D%3D?line=2'>3</a>\u001b[0m \u001b[39mprint\u001b[39m(\u001b[39mf\u001b[39m\u001b[39m\"\u001b[39m\u001b[39mB3. Securely multiplying \u001b[39m\u001b[39m{\u001b[39;00mn_mults\u001b[39m}\u001b[39;00m\u001b[39m times!\u001b[39m\u001b[39m\"\u001b[39m)\n",
            "File \u001b[1;32mPyfhel\\\\Pyfhel.pyx:1176\u001b[0m, in \u001b[0;36mPyfhel.Pyfhel.Pyfhel.multiply\u001b[1;34m()\u001b[0m\n",
            "File \u001b[1;32mPyfhel\\\\Pyfhel.pyx:1201\u001b[0m, in \u001b[0;36mPyfhel.Pyfhel.Pyfhel.multiply\u001b[1;34m()\u001b[0m\n",
            "\u001b[1;31mValueError\u001b[0m: encrypted1 and encrypted2 parameter mismatch"
          ]
        }
      ],
      "source": [
        "\n",
        "_r = lambda x: np.round(x, decimals=6)[:4]\n",
        "print(f\"B3. Securely multiplying {n_mults} times!\")\n",
        "for step in range(1,n_mults+1):\n",
        "    ctxt_x *= ctxt_y    # Multiply in-place --> implicit align_mod_n_scale()\n",
        "    ctxt_x = ~(ctxt_x)  # Always relinearize after each multiplication!\n",
        "    print(f\"\\tStep {step}:  res {_r(HE.decryptFrac(ctxt_x))}\")\n",
        "try:\n",
        "    ctxt_x *= ctxt_y\n",
        "except ValueError as e:\n",
        "    assert str(e)=='scale out of bounds'\n",
        "    print(f\"If we multiply further we get: {str(e)}\")\n",
        "print(\"---------------------------------------\")\n"
      ]
    },
    {
      "cell_type": "code",
      "execution_count": 13,
      "metadata": {},
      "outputs": [
        {
          "name": "stdout",
          "output_type": "stream",
          "text": [
            "After iteration 1, arr_x: [ 1.1 -2.2 -3.3]\n",
            "After iteration 2, arr_x: [ 1.1  2.2 -3.3]\n",
            "After iteration 3, arr_x: [ 1.1 -2.2 -3.3]\n",
            "After iteration 4, arr_x: [ 1.1  2.2 -3.3]\n",
            "After iteration 5, arr_x: [ 1.1 -2.2 -3.3]\n",
            "After iteration 6, arr_x: [ 1.1  2.2 -3.3]\n",
            "After iteration 7, arr_x: [ 1.1 -2.2 -3.3]\n",
            "After iteration 8, arr_x: [ 1.1  2.2 -3.3]\n",
            "After iteration 9, arr_x: [ 1.1 -2.2 -3.3]\n",
            "\n",
            "Final arr_x after 9 multiplications: [ 1.1 -2.2 -3.3]\n"
          ]
        }
      ],
      "source": [
        "import numpy as np\n",
        "\n",
        "# Initial arrays\n",
        "arr_x = np.array([1.1, 2.2, -3.3])\n",
        "arr_y = np.array([1, -1, 1])\n",
        "\n",
        "# Perform the multiplication 9 times\n",
        "for i in range(9):\n",
        "    arr_x = arr_x * arr_y\n",
        "    print(f\"After iteration {i+1}, arr_x: {arr_x}\")\n",
        "\n",
        "# Final result\n",
        "print(\"\\nFinal arr_x after 9 multiplications:\", arr_x)"
      ]
    }
  ],
  "metadata": {
    "kernelspec": {
      "display_name": "Python 3",
      "language": "python",
      "name": "python3"
    },
    "language_info": {
      "codemirror_mode": {
        "name": "ipython",
        "version": 3
      },
      "file_extension": ".py",
      "mimetype": "text/x-python",
      "name": "python",
      "nbconvert_exporter": "python",
      "pygments_lexer": "ipython3",
      "version": "3.11.4"
    }
  },
  "nbformat": 4,
  "nbformat_minor": 0
}
