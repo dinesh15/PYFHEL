{
 "cells": [
  {
   "cell_type": "code",
   "execution_count": 1,
   "metadata": {},
   "outputs": [],
   "source": [
    "import numpy as np\n",
    "from Pyfhel import Pyfhel"
   ]
  },
  {
   "cell_type": "code",
   "execution_count": 2,
   "metadata": {},
   "outputs": [],
   "source": [
    "# Example dataset\n",
    "hours_studied = np.array([1.0, 2.0, 3.0, 4.0, 5.0], dtype=np.float64)  # Feature: Hours studied\n",
    "exam_score = np.array([3.0, 5.0, 7.0, 9.0, 11.0], dtype=np.float64)    # Target: Exam score\n"
   ]
  },
  {
   "cell_type": "code",
   "execution_count": 3,
   "metadata": {},
   "outputs": [
    {
     "name": "stdout",
     "output_type": "stream",
     "text": [
      "\n",
      "B1. CKKS context generation\n",
      "\t<ckks Pyfhel obj at 0x25c162b7a00, [pk:Y, sk:Y, rtk:-, rlk:Y, contx(n=16384, t=0, sec=128, qi=[60, 30, 60], scale=1073741824.0, )]>\n"
     ]
    }
   ],
   "source": [
    "# Feel free to change this number!\n",
    "n_mults = 1\n",
    "\n",
    "HE = Pyfhel(key_gen=True, context_params={\n",
    "    'scheme': 'CKKS',\n",
    "    'n': 2**14,         # For CKKS, n/2 values can be encoded in a single ciphertext. \n",
    "    'scale': 2**30,     # Each multiplication grows the final scale\n",
    "    'qi_sizes': [60] + [30]*n_mults + [60] # Number of bits of each prime in the chain. \n",
    "                        # Intermediate prime sizes should be close to log2(scale).\n",
    "                        # One per multiplication! More/higher qi_sizes means bigger \n",
    "                        #  ciphertexts and slower ops.\n",
    "})\n",
    "\n",
    "HE.relinKeyGen()\n",
    "print(\"\\nB1. CKKS context generation\")\n",
    "print(f\"\\t{HE}\")"
   ]
  },
  {
   "cell_type": "code",
   "execution_count": 4,
   "metadata": {},
   "outputs": [],
   "source": [
    "#encrypting the hours, and the exam score\n",
    "hours_studied_enc = HE.encryptFrac(hours_studied)\n",
    "exam_score_enc = HE.encryptFrac(exam_score)\n"
   ]
  },
  {
   "cell_type": "code",
   "execution_count": 5,
   "metadata": {},
   "outputs": [],
   "source": [
    "# implement a fucntion for secure multiplication\n",
    "def secure_mul(HE, a, b, step, _r):\n",
    "    for i in range(1,step+1):\n",
    "        a *= b\n",
    "        a = ~(a)\n",
    "        print(f\"Encrypted prediction (decrypted for demo): {_r(HE.decryptFrac(a))}\")\n",
    "        return a\n"
   ]
  },
  {
   "cell_type": "code",
   "execution_count": 6,
   "metadata": {},
   "outputs": [
    {
     "ename": "TypeError",
     "evalue": "array() missing required argument 'object' (pos 0)",
     "output_type": "error",
     "traceback": [
      "\u001b[1;31m---------------------------------------------------------------------------\u001b[0m",
      "\u001b[1;31mTypeError\u001b[0m                                 Traceback (most recent call last)",
      "\u001b[1;32md:\\One Drive\\Dinesh Student\\OneDrive - IL State University\\MS Academic\\GA_Projects\\Bakshi\\homomorphic Encrytion\\Test_HE_Pyfhel\\Demo_test_regression.ipynb Cell 6\u001b[0m line \u001b[0;36m1\n\u001b[0;32m      <a href='vscode-notebook-cell:/d%3A/One%20Drive/Dinesh%20Student/OneDrive%20-%20IL%20State%20University/MS%20Academic/GA_Projects/Bakshi/homomorphic%20Encrytion/Test_HE_Pyfhel/Demo_test_regression.ipynb#W5sZmlsZQ%3D%3D?line=7'>8</a>\u001b[0m _r \u001b[39m=\u001b[39m \u001b[39mlambda\u001b[39;00m x: np\u001b[39m.\u001b[39mround(x, decimals\u001b[39m=\u001b[39m\u001b[39m2\u001b[39m)[:\u001b[39m1\u001b[39m]\n\u001b[0;32m     <a href='vscode-notebook-cell:/d%3A/One%20Drive/Dinesh%20Student/OneDrive%20-%20IL%20State%20University/MS%20Academic/GA_Projects/Bakshi/homomorphic%20Encrytion/Test_HE_Pyfhel/Demo_test_regression.ipynb#W5sZmlsZQ%3D%3D?line=9'>10</a>\u001b[0m \u001b[39m# create a list for numerator_m ,denominator_m and c of np.float64 type\u001b[39;00m\n\u001b[1;32m---> <a href='vscode-notebook-cell:/d%3A/One%20Drive/Dinesh%20Student/OneDrive%20-%20IL%20State%20University/MS%20Academic/GA_Projects/Bakshi/homomorphic%20Encrytion/Test_HE_Pyfhel/Demo_test_regression.ipynb#W5sZmlsZQ%3D%3D?line=10'>11</a>\u001b[0m numerator_m \u001b[39m=\u001b[39m np\u001b[39m.\u001b[39marray(dtype\u001b[39m=\u001b[39mnp\u001b[39m.\u001b[39mfloat64)\n\u001b[0;32m     <a href='vscode-notebook-cell:/d%3A/One%20Drive/Dinesh%20Student/OneDrive%20-%20IL%20State%20University/MS%20Academic/GA_Projects/Bakshi/homomorphic%20Encrytion/Test_HE_Pyfhel/Demo_test_regression.ipynb#W5sZmlsZQ%3D%3D?line=11'>12</a>\u001b[0m denominator_m \u001b[39m=\u001b[39m np\u001b[39m.\u001b[39marray( dtype\u001b[39m=\u001b[39mnp\u001b[39m.\u001b[39mfloat64)\n\u001b[0;32m     <a href='vscode-notebook-cell:/d%3A/One%20Drive/Dinesh%20Student/OneDrive%20-%20IL%20State%20University/MS%20Academic/GA_Projects/Bakshi/homomorphic%20Encrytion/Test_HE_Pyfhel/Demo_test_regression.ipynb#W5sZmlsZQ%3D%3D?line=12'>13</a>\u001b[0m c \u001b[39m=\u001b[39m np\u001b[39m.\u001b[39marray(dtype\u001b[39m=\u001b[39mnp\u001b[39m.\u001b[39mfloat64)\n",
      "\u001b[1;31mTypeError\u001b[0m: array() missing required argument 'object' (pos 0)"
     ]
    }
   ],
   "source": [
    "# Number of observations\n",
    "N = len(hours_studied)\n",
    "\n",
    "# encrypt the number of observations\n",
    "N_enc = HE.encryptFrac(np.array([N], dtype=np.float64))\n",
    "\n",
    "# Function to round and truncate results for display\n",
    "_r = lambda x: np.round(x, decimals=2)[:1]\n",
    "\n",
    "# create a list for numerator_m ,denominator_m and c of np.float64 type\n",
    "numerator_m = np.array(dtype=np.float64)\n",
    "denominator_m = np.array( dtype=np.float64)\n",
    "c = np.array(dtype=np.float64)\n",
    "\n",
    "# Calculating the slope (m) and intercept (c) using the formula\n",
    "numerator_m = HE.multiply(N_enc , ((HE.cumul_add(HE.multiply(hours_studied_enc , exam_score_enc ,in_new_ctxt=True), n_elements = 0 , in_new_ctxt=True)) - (HE.multiply(HE.cumul_add(hours_studied_enc, n_elements = 0 , in_new_ctxt=True) , HE.cumul_add(exam_score_enc, n_elements = 0 , in_new_ctxt=True), in_new_ctxt=True))), in_new_ctxt=True)\n",
    "denominator_m = (N * np.sum(hours_studied**2)) - (np.sum(hours_studied)**2)\n",
    "m = numerator_m / denominator_m\n",
    "\n",
    "#intercept \n",
    "c = (np.sum(exam_score) - m * np.sum(hours_studied)) / N\n",
    "\n",
    "print(\"slope = \", m, \" intercept =\", c)\n",
    "\n",
    "# Correctly creating arrays filled with m and c\n",
    "arr_m = np.full(shape=N, fill_value=m, dtype=np.float64) \n",
    "arr_c = np.full(shape=N, fill_value=c, dtype=np.float64)  # Corrected line\n"
   ]
  },
  {
   "cell_type": "markdown",
   "metadata": {},
   "source": [
    "Encrypting the slope and intercept with the same key HE"
   ]
  },
  {
   "cell_type": "code",
   "execution_count": 158,
   "metadata": {},
   "outputs": [],
   "source": [
    "ctxt_w_enc  = HE.encryptFrac(arr_m)\n",
    "ctxt_b_enc  = HE.encryptFrac(arr_c)"
   ]
  },
  {
   "cell_type": "code",
   "execution_count": 159,
   "metadata": {},
   "outputs": [
    {
     "name": "stdout",
     "output_type": "stream",
     "text": [
      "\n",
      "B2. Fixed-point Encoding & Encryption, \n",
      "->\tarr_x  [1. 2. 3. 4. 5.] \n",
      "\t==> ctxt_x  <Pyfhel Ciphertext at 0x1566e5b3e70, scheme=ckks, size=2/2, scale_bits=30, mod_level=0>\n"
     ]
    }
   ],
   "source": [
    "print(\"\\nB2. Fixed-point Encoding & Encryption, \")\n",
    "print(\"->\\tarr_x \", hours_studied,'\\n\\t==> ctxt_x ', hours_studied_enc)"
   ]
  },
  {
   "cell_type": "code",
   "execution_count": 160,
   "metadata": {},
   "outputs": [
    {
     "name": "stdout",
     "output_type": "stream",
     "text": [
      "Performing encrypted predictions with relinearization for multiple data points:\n",
      "Encrypted prediction (decrypted for demo): [ 3.  5.  7.  9. 11.]\n"
     ]
    },
    {
     "ename": "",
     "evalue": "",
     "output_type": "error",
     "traceback": [
      "\u001b[1;31mThe Kernel crashed while executing code in the the current cell or a previous cell. Please review the code in the cell(s) to identify a possible cause of the failure. Click <a href='https://aka.ms/vscodeJupyterKernelCrash'>here</a> for more info. View Jupyter <a href='command:jupyter.viewOutput'>log</a> for further details."
     ]
    }
   ],
   "source": [
    "# Function to round and truncate results for display\n",
    "_r = lambda x: np.round(x, decimals=2)[:N]\n",
    "\n",
    "print(\"Performing encrypted predictions with relinearization for multiple data points:\")\n",
    "\n",
    "\n",
    "# Iterate over each encrypted hour studied\n",
    "# \n",
    "n_nults = 1\n",
    "for step in range(1,n_mults+1):\n",
    "    hours_studied_enc *=  ctxt_w_enc  # Encrypted multiplication\n",
    "    hours_studied_enc += ctxt_b_enc # encreypted addition\n",
    "    hours_studied_enc = ~(hours_studied_enc)  # Relinearize after multiplication\n",
    "    print(f\"Encrypted prediction (decrypted for demo): {_r(HE.decryptFrac(hours_studied_enc))}\")\n",
    "\n",
    "    \n"
   ]
  },
  {
   "cell_type": "code",
   "execution_count": 130,
   "metadata": {},
   "outputs": [
    {
     "name": "stdout",
     "output_type": "stream",
     "text": [
      "Slope (m): 2.0\n",
      "Intercept (c): 1.0\n",
      "Predicted Exam Scores: [ 3.  5.  7.  9. 11.]\n",
      "R-squared: 1.0\n"
     ]
    }
   ],
   "source": [
    "from sklearn.model_selection import train_test_split\n",
    "from sklearn.linear_model import LinearRegression\n",
    "import numpy as np\n",
    "\n",
    "# Example dataset with a non-zero intercept\n",
    "hours_studied = np.array([1, 2, 3, 4, 5])  # Independent variable\n",
    "exam_score = np.array([3, 5, 7, 9, 11])    # Dependent variable (modified to change the intercept)\n",
    "\n",
    "# Number of observations\n",
    "N = len(hours_studied)\n",
    "\n",
    "# Calculating the slope (m) and intercept (c) using the formula\n",
    "numerator_m = (N * np.sum(hours_studied * exam_score)) - (np.sum(hours_studied) * np.sum(exam_score))\n",
    "denominator_m = (N * np.sum(hours_studied**2)) - (np.sum(hours_studied)**2)\n",
    "m = numerator_m / denominator_m\n",
    "\n",
    "c = (np.sum(exam_score) - m * np.sum(hours_studied)) / N\n",
    "\n",
    "print(f\"Slope (m): {m}\")\n",
    "print(f\"Intercept (c): {c}\")\n",
    "\n",
    "# Predicting exam scores\n",
    "predicted_scores = m * hours_studied + c\n",
    "print(\"Predicted Exam Scores:\", predicted_scores)\n",
    "\n",
    "# Optional: Calculating R-squared for model evaluation\n",
    "ss_total = np.sum((exam_score - np.mean(exam_score))**2)\n",
    "ss_res = np.sum((exam_score - predicted_scores)**2)\n",
    "r_squared = 1 - (ss_res / ss_total)\n",
    "print(f\"R-squared: {r_squared}\")\n"
   ]
  }
 ],
 "metadata": {
  "kernelspec": {
   "display_name": "base",
   "language": "python",
   "name": "python3"
  },
  "language_info": {
   "codemirror_mode": {
    "name": "ipython",
    "version": 3
   },
   "file_extension": ".py",
   "mimetype": "text/x-python",
   "name": "python",
   "nbconvert_exporter": "python",
   "pygments_lexer": "ipython3",
   "version": "3.11.4"
  },
  "orig_nbformat": 4
 },
 "nbformat": 4,
 "nbformat_minor": 2
}
